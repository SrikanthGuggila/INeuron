{
  "nbformat": 4,
  "nbformat_minor": 0,
  "metadata": {
    "kernelspec": {
      "display_name": "Python 3",
      "language": "python",
      "name": "python3"
    },
    "language_info": {
      "codemirror_mode": {
        "name": "ipython",
        "version": 3
      },
      "file_extension": ".py",
      "mimetype": "text/x-python",
      "name": "python",
      "nbconvert_exporter": "python",
      "pygments_lexer": "ipython3",
      "version": "3.8.3"
    },
    "colab": {
      "name": "XG Boost Assign.ipynb",
      "provenance": [],
      "collapsed_sections": [
        "bK1KeVEIHwKY",
        "IJGqHuPLHwKg",
        "Ao0Z6WTWHwKh",
        "unfqA8x8HwKj",
        "i0zawGuPHwKk"
      ],
      "include_colab_link": true
    }
  },
  "cells": [
    {
      "cell_type": "markdown",
      "metadata": {
        "id": "view-in-github",
        "colab_type": "text"
      },
      "source": [
        "<a href=\"https://colab.research.google.com/github/SrikanthGuggila/INeuron/blob/main/Boosting.ipynb\" target=\"_parent\"><img src=\"https://colab.research.google.com/assets/colab-badge.svg\" alt=\"Open In Colab\"/></a>"
      ]
    },
    {
      "cell_type": "markdown",
      "metadata": {
        "id": "1xba2MeoHwKC"
      },
      "source": [
        "### Problem Statement"
      ]
    },
    {
      "cell_type": "markdown",
      "metadata": {
        "id": "rX4vR4gsHwKL"
      },
      "source": [
        "In this assignment students need to predict whether a person makes over\n",
        "50K per year or not from classic adult dataset using XGBoost. The\n",
        "description of the dataset is as follows:"
      ]
    },
    {
      "cell_type": "markdown",
      "metadata": {
        "id": "SJReXwD7HwKN"
      },
      "source": [
        "### Dataset Information"
      ]
    },
    {
      "cell_type": "markdown",
      "metadata": {
        "id": "nB0eh6YpHwKO"
      },
      "source": [
        "* Extraction was done by Barry Becker from the 1994 Census\n",
        "* database. A set of reasonably clean records was extracted using the following conditions: ((AAGE>16) && (AGI>100) && (AFNLWGT>1)&& (HRSWK>0))\n",
        "\n",
        "#### Attribute Information:\n",
        "\n",
        "* Listing of attributes: >50K, <=50K.\n",
        "* age: continuous.\n",
        "* workclass: Private, Self-emp-not-inc, Self-emp-inc, Federal-gov,\n",
        "* Local-gov, State-gov, Without-pay, Never-worked.\n",
        "* fnlwgt: continuous.\n",
        "* education: Bachelors, Some-college, 11th, HS-grad, Prof-school,\n",
        "* Assoc-acdm, Assoc-voc, 9th, 7th-8th, 12th, Masters, 1st-4th, 10th,\n",
        "* Doctorate, 5th-6th, Preschool.\n",
        "* education-num: continuous.\n",
        "* marital-status: Married-civ-spouse, Divorced, Never-married,Separated, Widowed, Married-spouse-absent, Married-AF-spouse.\n",
        "* occupation: Tech-support, Craft-repair, Other-service, Sales, Exec-\n",
        "* managerial, Prof-specialty, Handlers-cleaners, Machine-op-inspct,\n",
        "* Adm-clerical, Farming-fishing, Transport-moving, Priv-house-serv,\n",
        "* Protective-serv, Armed-Forces.\n",
        "* relationship: Wife, Own-child, Husband, Not-in-family, Other-relative,Unmarried.\n",
        "* race: White, Asian-Pac-Islander, Amer-Indian-Eskimo, Other, Black.\n",
        "* sex: Female, Male.\n",
        "* capital-gain: continuous.\n",
        "* capital-loss: continuous.\n",
        "* hours-per-week: continuous.\n",
        "* native-country: United-States, Cambodia, England, Puerto-Rico,Canada, Germany, Outlying-US(Guam-USVI-etc), India, Japan,Greece, South, China, Cuba, Iran, Honduras, Philippines, Italy,Poland, Jamaica, Vietnam, Mexico, Portugal, Ireland, France,Dominican-Republic, Laos, Ecuador, Taiwan, Haiti, Columbia,Hungary, Guatemala, Nicaragua, Scotland, Thailand, Yugoslavia, El-Salvador, Trinadad&Tobago, Peru, Hong, Holand-Netherlands."
      ]
    },
    {
      "cell_type": "markdown",
      "metadata": {
        "id": "DrhKjctKHwKP"
      },
      "source": [
        "### Loading the data"
      ]
    },
    {
      "cell_type": "markdown",
      "metadata": {
        "id": "NeS7ulYqHwKP"
      },
      "source": [
        "#### Import Necessary Libraries"
      ]
    },
    {
      "cell_type": "code",
      "metadata": {
        "id": "Ma24FLxLHwKQ",
        "outputId": "fef01b6a-8085-4309-90b8-936072554f26"
      },
      "source": [
        "pip install xgboost"
      ],
      "execution_count": null,
      "outputs": [
        {
          "output_type": "stream",
          "text": [
            "Collecting xgboost\n",
            "  Downloading xgboost-1.3.1-py3-none-win_amd64.whl (95.2 MB)\n",
            "Requirement already satisfied: scipy in c:\\users\\appcloud\\anaconda3\\lib\\site-packages (from xgboost) (1.5.0)\n",
            "Requirement already satisfied: numpy in c:\\users\\appcloud\\anaconda3\\lib\\site-packages (from xgboost) (1.18.5)\n",
            "Installing collected packages: xgboost\n",
            "Successfully installed xgboost-1.3.1\n",
            "Note: you may need to restart the kernel to use updated packages.\n"
          ],
          "name": "stdout"
        }
      ]
    },
    {
      "cell_type": "code",
      "metadata": {
        "id": "JhBkwuyJHwKR"
      },
      "source": [
        "import pandas as pd\n",
        "import numpy as np\n",
        "import xgboost as xgb\n",
        "from sklearn.ensemble import AdaBoostClassifier, GradientBoostingClassifier\n",
        "from xgboost import XGBClassifier"
      ],
      "execution_count": null,
      "outputs": []
    },
    {
      "cell_type": "markdown",
      "metadata": {
        "id": "cs3lAgZBHwKS"
      },
      "source": [
        "#### Train data"
      ]
    },
    {
      "cell_type": "code",
      "metadata": {
        "id": "RWk6VaGZHwKS"
      },
      "source": [
        "train_set = pd.read_csv('http://archive.ics.uci.edu/ml/machine-learning-databases/adult/adult.data', header = None)\n",
        "test_set = pd.read_csv('http://archive.ics.uci.edu/ml/machine-learning-databases/adult/adult.test' , skiprows = 1, header = None)"
      ],
      "execution_count": null,
      "outputs": []
    },
    {
      "cell_type": "code",
      "metadata": {
        "id": "xeQVvC0dHwKT",
        "outputId": "4b2ee21a-ae31-4155-8a3e-b90600591e78"
      },
      "source": [
        "train_set.shape"
      ],
      "execution_count": null,
      "outputs": [
        {
          "output_type": "execute_result",
          "data": {
            "text/plain": [
              "(32561, 15)"
            ]
          },
          "metadata": {
            "tags": []
          },
          "execution_count": 73
        }
      ]
    },
    {
      "cell_type": "code",
      "metadata": {
        "scrolled": true,
        "id": "LOTf1FBsHwKT",
        "outputId": "fc1da8a1-027c-40fe-8822-3b4b75388348"
      },
      "source": [
        "test_set.shape"
      ],
      "execution_count": null,
      "outputs": [
        {
          "output_type": "execute_result",
          "data": {
            "text/plain": [
              "(16281, 15)"
            ]
          },
          "metadata": {
            "tags": []
          },
          "execution_count": 74
        }
      ]
    },
    {
      "cell_type": "code",
      "metadata": {
        "id": "5OY8Y4dOHwKU"
      },
      "source": [
        "col_labels = ['age', 'workclass', 'fnlwgt', 'education', 'education_num',\n",
        "'marital_status', 'occupation','relationship', 'race', 'sex', 'capital_gain',\n",
        "'capital_loss', 'hours_per_week', 'native_country', 'wage_class']"
      ],
      "execution_count": null,
      "outputs": []
    },
    {
      "cell_type": "code",
      "metadata": {
        "id": "u2_su2j5HwKU"
      },
      "source": [
        "train_set.columns = col_labels\n",
        "test_set.columns = col_labels"
      ],
      "execution_count": null,
      "outputs": []
    },
    {
      "cell_type": "code",
      "metadata": {
        "id": "PpiN-e55HwKV",
        "outputId": "677daacc-cfc8-431a-f6d0-5d522f2b760f"
      },
      "source": [
        "train_set.describe()"
      ],
      "execution_count": null,
      "outputs": [
        {
          "output_type": "execute_result",
          "data": {
            "text/html": [
              "<div>\n",
              "<style scoped>\n",
              "    .dataframe tbody tr th:only-of-type {\n",
              "        vertical-align: middle;\n",
              "    }\n",
              "\n",
              "    .dataframe tbody tr th {\n",
              "        vertical-align: top;\n",
              "    }\n",
              "\n",
              "    .dataframe thead th {\n",
              "        text-align: right;\n",
              "    }\n",
              "</style>\n",
              "<table border=\"1\" class=\"dataframe\">\n",
              "  <thead>\n",
              "    <tr style=\"text-align: right;\">\n",
              "      <th></th>\n",
              "      <th>age</th>\n",
              "      <th>fnlwgt</th>\n",
              "      <th>education_num</th>\n",
              "      <th>capital_gain</th>\n",
              "      <th>capital_loss</th>\n",
              "      <th>hours_per_week</th>\n",
              "    </tr>\n",
              "  </thead>\n",
              "  <tbody>\n",
              "    <tr>\n",
              "      <th>count</th>\n",
              "      <td>32561.000000</td>\n",
              "      <td>3.256100e+04</td>\n",
              "      <td>32561.000000</td>\n",
              "      <td>32561.000000</td>\n",
              "      <td>32561.000000</td>\n",
              "      <td>32561.000000</td>\n",
              "    </tr>\n",
              "    <tr>\n",
              "      <th>mean</th>\n",
              "      <td>38.581647</td>\n",
              "      <td>1.897784e+05</td>\n",
              "      <td>10.080679</td>\n",
              "      <td>1077.648844</td>\n",
              "      <td>87.303830</td>\n",
              "      <td>40.437456</td>\n",
              "    </tr>\n",
              "    <tr>\n",
              "      <th>std</th>\n",
              "      <td>13.640433</td>\n",
              "      <td>1.055500e+05</td>\n",
              "      <td>2.572720</td>\n",
              "      <td>7385.292085</td>\n",
              "      <td>402.960219</td>\n",
              "      <td>12.347429</td>\n",
              "    </tr>\n",
              "    <tr>\n",
              "      <th>min</th>\n",
              "      <td>17.000000</td>\n",
              "      <td>1.228500e+04</td>\n",
              "      <td>1.000000</td>\n",
              "      <td>0.000000</td>\n",
              "      <td>0.000000</td>\n",
              "      <td>1.000000</td>\n",
              "    </tr>\n",
              "    <tr>\n",
              "      <th>25%</th>\n",
              "      <td>28.000000</td>\n",
              "      <td>1.178270e+05</td>\n",
              "      <td>9.000000</td>\n",
              "      <td>0.000000</td>\n",
              "      <td>0.000000</td>\n",
              "      <td>40.000000</td>\n",
              "    </tr>\n",
              "    <tr>\n",
              "      <th>50%</th>\n",
              "      <td>37.000000</td>\n",
              "      <td>1.783560e+05</td>\n",
              "      <td>10.000000</td>\n",
              "      <td>0.000000</td>\n",
              "      <td>0.000000</td>\n",
              "      <td>40.000000</td>\n",
              "    </tr>\n",
              "    <tr>\n",
              "      <th>75%</th>\n",
              "      <td>48.000000</td>\n",
              "      <td>2.370510e+05</td>\n",
              "      <td>12.000000</td>\n",
              "      <td>0.000000</td>\n",
              "      <td>0.000000</td>\n",
              "      <td>45.000000</td>\n",
              "    </tr>\n",
              "    <tr>\n",
              "      <th>max</th>\n",
              "      <td>90.000000</td>\n",
              "      <td>1.484705e+06</td>\n",
              "      <td>16.000000</td>\n",
              "      <td>99999.000000</td>\n",
              "      <td>4356.000000</td>\n",
              "      <td>99.000000</td>\n",
              "    </tr>\n",
              "  </tbody>\n",
              "</table>\n",
              "</div>"
            ],
            "text/plain": [
              "                age        fnlwgt  education_num  capital_gain  capital_loss  \\\n",
              "count  32561.000000  3.256100e+04   32561.000000  32561.000000  32561.000000   \n",
              "mean      38.581647  1.897784e+05      10.080679   1077.648844     87.303830   \n",
              "std       13.640433  1.055500e+05       2.572720   7385.292085    402.960219   \n",
              "min       17.000000  1.228500e+04       1.000000      0.000000      0.000000   \n",
              "25%       28.000000  1.178270e+05       9.000000      0.000000      0.000000   \n",
              "50%       37.000000  1.783560e+05      10.000000      0.000000      0.000000   \n",
              "75%       48.000000  2.370510e+05      12.000000      0.000000      0.000000   \n",
              "max       90.000000  1.484705e+06      16.000000  99999.000000   4356.000000   \n",
              "\n",
              "       hours_per_week  \n",
              "count    32561.000000  \n",
              "mean        40.437456  \n",
              "std         12.347429  \n",
              "min          1.000000  \n",
              "25%         40.000000  \n",
              "50%         40.000000  \n",
              "75%         45.000000  \n",
              "max         99.000000  "
            ]
          },
          "metadata": {
            "tags": []
          },
          "execution_count": 77
        }
      ]
    },
    {
      "cell_type": "code",
      "metadata": {
        "id": "OB31CDYLHwKV",
        "outputId": "1c55d64d-3b01-48bb-ecf9-4e5d53ae5ae6"
      },
      "source": [
        "train_set.isna().sum()"
      ],
      "execution_count": null,
      "outputs": [
        {
          "output_type": "execute_result",
          "data": {
            "text/plain": [
              "age               0\n",
              "workclass         0\n",
              "fnlwgt            0\n",
              "education         0\n",
              "education_num     0\n",
              "marital_status    0\n",
              "occupation        0\n",
              "relationship      0\n",
              "race              0\n",
              "sex               0\n",
              "capital_gain      0\n",
              "capital_loss      0\n",
              "hours_per_week    0\n",
              "native_country    0\n",
              "wage_class        0\n",
              "dtype: int64"
            ]
          },
          "metadata": {
            "tags": []
          },
          "execution_count": 78
        }
      ]
    },
    {
      "cell_type": "code",
      "metadata": {
        "id": "WcDIysn8HwKV"
      },
      "source": [
        "train_set_x = train_set.drop('wage_class', axis=1)\n",
        "train_set_y = train_set.wage_class"
      ],
      "execution_count": null,
      "outputs": []
    },
    {
      "cell_type": "code",
      "metadata": {
        "scrolled": true,
        "id": "fO5O1xE_HwKW",
        "outputId": "c73e31f8-ee92-474d-9223-c50b962d3743"
      },
      "source": [
        "train_set_x.shape"
      ],
      "execution_count": null,
      "outputs": [
        {
          "output_type": "execute_result",
          "data": {
            "text/plain": [
              "(32561, 14)"
            ]
          },
          "metadata": {
            "tags": []
          },
          "execution_count": 80
        }
      ]
    },
    {
      "cell_type": "code",
      "metadata": {
        "id": "_5AUNZgUHwKW",
        "outputId": "caff0827-ca5d-4f27-9e78-e1b273690a04"
      },
      "source": [
        "train_set_y.shape"
      ],
      "execution_count": null,
      "outputs": [
        {
          "output_type": "execute_result",
          "data": {
            "text/plain": [
              "(32561,)"
            ]
          },
          "metadata": {
            "tags": []
          },
          "execution_count": 82
        }
      ]
    },
    {
      "cell_type": "code",
      "metadata": {
        "id": "4iByZyxoHwKX"
      },
      "source": [
        "test_set_x = test_set.drop('wage_class', axis=1)\n",
        "test_set_y = test_set.wage_class"
      ],
      "execution_count": null,
      "outputs": []
    },
    {
      "cell_type": "code",
      "metadata": {
        "scrolled": true,
        "id": "NW0qprhRHwKX",
        "outputId": "d874bdd3-e354-4740-8ac5-4f83a35f7b9d"
      },
      "source": [
        "test_set_x.shape"
      ],
      "execution_count": null,
      "outputs": [
        {
          "output_type": "execute_result",
          "data": {
            "text/plain": [
              "(16281, 14)"
            ]
          },
          "metadata": {
            "tags": []
          },
          "execution_count": 84
        }
      ]
    },
    {
      "cell_type": "code",
      "metadata": {
        "id": "LeR1YCMNHwKX",
        "outputId": "96715925-8103-44b0-d956-9d66e297ecf3"
      },
      "source": [
        "test_set_y.shape"
      ],
      "execution_count": null,
      "outputs": [
        {
          "output_type": "execute_result",
          "data": {
            "text/plain": [
              "(16281,)"
            ]
          },
          "metadata": {
            "tags": []
          },
          "execution_count": 85
        }
      ]
    },
    {
      "cell_type": "code",
      "metadata": {
        "id": "l8DR-Ir2HwKY",
        "outputId": "ccecc3b4-c174-4cff-d6ec-1153dcad2ccb"
      },
      "source": [
        "for column in train_set_x.columns:\n",
        "    print(train_set_x[column].value_counts())\n",
        "    print('----------------------------------------')"
      ],
      "execution_count": null,
      "outputs": [
        {
          "output_type": "stream",
          "text": [
            "36    898\n",
            "31    888\n",
            "34    886\n",
            "23    877\n",
            "35    876\n",
            "     ... \n",
            "83      6\n",
            "85      3\n",
            "88      3\n",
            "87      1\n",
            "86      1\n",
            "Name: age, Length: 73, dtype: int64\n",
            "----------------------------------------\n",
            " Private             22696\n",
            " Self-emp-not-inc     2541\n",
            " Local-gov            2093\n",
            " ?                    1836\n",
            " State-gov            1298\n",
            " Self-emp-inc         1116\n",
            " Federal-gov           960\n",
            " Without-pay            14\n",
            " Never-worked            7\n",
            "Name: workclass, dtype: int64\n",
            "----------------------------------------\n",
            "164190    13\n",
            "203488    13\n",
            "123011    13\n",
            "113364    12\n",
            "121124    12\n",
            "          ..\n",
            "284211     1\n",
            "312881     1\n",
            "177711     1\n",
            "179758     1\n",
            "229376     1\n",
            "Name: fnlwgt, Length: 21648, dtype: int64\n",
            "----------------------------------------\n",
            " HS-grad         10501\n",
            " Some-college     7291\n",
            " Bachelors        5355\n",
            " Masters          1723\n",
            " Assoc-voc        1382\n",
            " 11th             1175\n",
            " Assoc-acdm       1067\n",
            " 10th              933\n",
            " 7th-8th           646\n",
            " Prof-school       576\n",
            " 9th               514\n",
            " 12th              433\n",
            " Doctorate         413\n",
            " 5th-6th           333\n",
            " 1st-4th           168\n",
            " Preschool          51\n",
            "Name: education, dtype: int64\n",
            "----------------------------------------\n",
            "9     10501\n",
            "10     7291\n",
            "13     5355\n",
            "14     1723\n",
            "11     1382\n",
            "7      1175\n",
            "12     1067\n",
            "6       933\n",
            "4       646\n",
            "15      576\n",
            "5       514\n",
            "8       433\n",
            "16      413\n",
            "3       333\n",
            "2       168\n",
            "1        51\n",
            "Name: education_num, dtype: int64\n",
            "----------------------------------------\n",
            " Married-civ-spouse       14976\n",
            " Never-married            10683\n",
            " Divorced                  4443\n",
            " Separated                 1025\n",
            " Widowed                    993\n",
            " Married-spouse-absent      418\n",
            " Married-AF-spouse           23\n",
            "Name: marital_status, dtype: int64\n",
            "----------------------------------------\n",
            " Prof-specialty       4140\n",
            " Craft-repair         4099\n",
            " Exec-managerial      4066\n",
            " Adm-clerical         3770\n",
            " Sales                3650\n",
            " Other-service        3295\n",
            " Machine-op-inspct    2002\n",
            " ?                    1843\n",
            " Transport-moving     1597\n",
            " Handlers-cleaners    1370\n",
            " Farming-fishing       994\n",
            " Tech-support          928\n",
            " Protective-serv       649\n",
            " Priv-house-serv       149\n",
            " Armed-Forces            9\n",
            "Name: occupation, dtype: int64\n",
            "----------------------------------------\n",
            " Husband           13193\n",
            " Not-in-family      8305\n",
            " Own-child          5068\n",
            " Unmarried          3446\n",
            " Wife               1568\n",
            " Other-relative      981\n",
            "Name: relationship, dtype: int64\n",
            "----------------------------------------\n",
            " White                 27816\n",
            " Black                  3124\n",
            " Asian-Pac-Islander     1039\n",
            " Amer-Indian-Eskimo      311\n",
            " Other                   271\n",
            "Name: race, dtype: int64\n",
            "----------------------------------------\n",
            " Male      21790\n",
            " Female    10771\n",
            "Name: sex, dtype: int64\n",
            "----------------------------------------\n",
            "0        29849\n",
            "15024      347\n",
            "7688       284\n",
            "7298       246\n",
            "99999      159\n",
            "         ...  \n",
            "4931         1\n",
            "1455         1\n",
            "6097         1\n",
            "22040        1\n",
            "1111         1\n",
            "Name: capital_gain, Length: 119, dtype: int64\n",
            "----------------------------------------\n",
            "0       31042\n",
            "1902      202\n",
            "1977      168\n",
            "1887      159\n",
            "1848       51\n",
            "        ...  \n",
            "1411        1\n",
            "1539        1\n",
            "2472        1\n",
            "1944        1\n",
            "2201        1\n",
            "Name: capital_loss, Length: 92, dtype: int64\n",
            "----------------------------------------\n",
            "40    15217\n",
            "50     2819\n",
            "45     1824\n",
            "60     1475\n",
            "35     1297\n",
            "      ...  \n",
            "92        1\n",
            "94        1\n",
            "87        1\n",
            "74        1\n",
            "82        1\n",
            "Name: hours_per_week, Length: 94, dtype: int64\n",
            "----------------------------------------\n",
            " United-States                 29170\n",
            " Mexico                          643\n",
            " ?                               583\n",
            " Philippines                     198\n",
            " Germany                         137\n",
            " Canada                          121\n",
            " Puerto-Rico                     114\n",
            " El-Salvador                     106\n",
            " India                           100\n",
            " Cuba                             95\n",
            " England                          90\n",
            " Jamaica                          81\n",
            " South                            80\n",
            " China                            75\n",
            " Italy                            73\n",
            " Dominican-Republic               70\n",
            " Vietnam                          67\n",
            " Guatemala                        64\n",
            " Japan                            62\n",
            " Poland                           60\n",
            " Columbia                         59\n",
            " Taiwan                           51\n",
            " Haiti                            44\n",
            " Iran                             43\n",
            " Portugal                         37\n",
            " Nicaragua                        34\n",
            " Peru                             31\n",
            " France                           29\n",
            " Greece                           29\n",
            " Ecuador                          28\n",
            " Ireland                          24\n",
            " Hong                             20\n",
            " Trinadad&Tobago                  19\n",
            " Cambodia                         19\n",
            " Laos                             18\n",
            " Thailand                         18\n",
            " Yugoslavia                       16\n",
            " Outlying-US(Guam-USVI-etc)       14\n",
            " Honduras                         13\n",
            " Hungary                          13\n",
            " Scotland                         12\n",
            " Holand-Netherlands                1\n",
            "Name: native_country, dtype: int64\n",
            "----------------------------------------\n"
          ],
          "name": "stdout"
        }
      ]
    },
    {
      "cell_type": "code",
      "metadata": {
        "scrolled": false,
        "id": "zE6fhIu8HwKY",
        "outputId": "6eeb0a79-0528-4553-aac4-c90902bd9a18"
      },
      "source": [
        "train_set_x.head()"
      ],
      "execution_count": null,
      "outputs": [
        {
          "output_type": "execute_result",
          "data": {
            "text/html": [
              "<div>\n",
              "<style scoped>\n",
              "    .dataframe tbody tr th:only-of-type {\n",
              "        vertical-align: middle;\n",
              "    }\n",
              "\n",
              "    .dataframe tbody tr th {\n",
              "        vertical-align: top;\n",
              "    }\n",
              "\n",
              "    .dataframe thead th {\n",
              "        text-align: right;\n",
              "    }\n",
              "</style>\n",
              "<table border=\"1\" class=\"dataframe\">\n",
              "  <thead>\n",
              "    <tr style=\"text-align: right;\">\n",
              "      <th></th>\n",
              "      <th>age</th>\n",
              "      <th>workclass</th>\n",
              "      <th>fnlwgt</th>\n",
              "      <th>education</th>\n",
              "      <th>education_num</th>\n",
              "      <th>marital_status</th>\n",
              "      <th>occupation</th>\n",
              "      <th>relationship</th>\n",
              "      <th>race</th>\n",
              "      <th>sex</th>\n",
              "      <th>capital_gain</th>\n",
              "      <th>capital_loss</th>\n",
              "      <th>hours_per_week</th>\n",
              "      <th>native_country</th>\n",
              "    </tr>\n",
              "  </thead>\n",
              "  <tbody>\n",
              "    <tr>\n",
              "      <th>0</th>\n",
              "      <td>39</td>\n",
              "      <td>State-gov</td>\n",
              "      <td>77516</td>\n",
              "      <td>Bachelors</td>\n",
              "      <td>13</td>\n",
              "      <td>Never-married</td>\n",
              "      <td>Adm-clerical</td>\n",
              "      <td>Not-in-family</td>\n",
              "      <td>White</td>\n",
              "      <td>Male</td>\n",
              "      <td>2174</td>\n",
              "      <td>0</td>\n",
              "      <td>40</td>\n",
              "      <td>United-States</td>\n",
              "    </tr>\n",
              "    <tr>\n",
              "      <th>1</th>\n",
              "      <td>50</td>\n",
              "      <td>Self-emp-not-inc</td>\n",
              "      <td>83311</td>\n",
              "      <td>Bachelors</td>\n",
              "      <td>13</td>\n",
              "      <td>Married-civ-spouse</td>\n",
              "      <td>Exec-managerial</td>\n",
              "      <td>Husband</td>\n",
              "      <td>White</td>\n",
              "      <td>Male</td>\n",
              "      <td>0</td>\n",
              "      <td>0</td>\n",
              "      <td>13</td>\n",
              "      <td>United-States</td>\n",
              "    </tr>\n",
              "    <tr>\n",
              "      <th>2</th>\n",
              "      <td>38</td>\n",
              "      <td>Private</td>\n",
              "      <td>215646</td>\n",
              "      <td>HS-grad</td>\n",
              "      <td>9</td>\n",
              "      <td>Divorced</td>\n",
              "      <td>Handlers-cleaners</td>\n",
              "      <td>Not-in-family</td>\n",
              "      <td>White</td>\n",
              "      <td>Male</td>\n",
              "      <td>0</td>\n",
              "      <td>0</td>\n",
              "      <td>40</td>\n",
              "      <td>United-States</td>\n",
              "    </tr>\n",
              "    <tr>\n",
              "      <th>3</th>\n",
              "      <td>53</td>\n",
              "      <td>Private</td>\n",
              "      <td>234721</td>\n",
              "      <td>11th</td>\n",
              "      <td>7</td>\n",
              "      <td>Married-civ-spouse</td>\n",
              "      <td>Handlers-cleaners</td>\n",
              "      <td>Husband</td>\n",
              "      <td>Black</td>\n",
              "      <td>Male</td>\n",
              "      <td>0</td>\n",
              "      <td>0</td>\n",
              "      <td>40</td>\n",
              "      <td>United-States</td>\n",
              "    </tr>\n",
              "    <tr>\n",
              "      <th>4</th>\n",
              "      <td>28</td>\n",
              "      <td>Private</td>\n",
              "      <td>338409</td>\n",
              "      <td>Bachelors</td>\n",
              "      <td>13</td>\n",
              "      <td>Married-civ-spouse</td>\n",
              "      <td>Prof-specialty</td>\n",
              "      <td>Wife</td>\n",
              "      <td>Black</td>\n",
              "      <td>Female</td>\n",
              "      <td>0</td>\n",
              "      <td>0</td>\n",
              "      <td>40</td>\n",
              "      <td>Cuba</td>\n",
              "    </tr>\n",
              "  </tbody>\n",
              "</table>\n",
              "</div>"
            ],
            "text/plain": [
              "   age          workclass  fnlwgt   education  education_num  \\\n",
              "0   39          State-gov   77516   Bachelors             13   \n",
              "1   50   Self-emp-not-inc   83311   Bachelors             13   \n",
              "2   38            Private  215646     HS-grad              9   \n",
              "3   53            Private  234721        11th              7   \n",
              "4   28            Private  338409   Bachelors             13   \n",
              "\n",
              "        marital_status          occupation    relationship    race      sex  \\\n",
              "0        Never-married        Adm-clerical   Not-in-family   White     Male   \n",
              "1   Married-civ-spouse     Exec-managerial         Husband   White     Male   \n",
              "2             Divorced   Handlers-cleaners   Not-in-family   White     Male   \n",
              "3   Married-civ-spouse   Handlers-cleaners         Husband   Black     Male   \n",
              "4   Married-civ-spouse      Prof-specialty            Wife   Black   Female   \n",
              "\n",
              "   capital_gain  capital_loss  hours_per_week  native_country  \n",
              "0          2174             0              40   United-States  \n",
              "1             0             0              13   United-States  \n",
              "2             0             0              40   United-States  \n",
              "3             0             0              40   United-States  \n",
              "4             0             0              40            Cuba  "
            ]
          },
          "metadata": {
            "tags": []
          },
          "execution_count": 88
        }
      ]
    },
    {
      "cell_type": "markdown",
      "metadata": {
        "id": "bK1KeVEIHwKY"
      },
      "source": [
        "#### Converting Categorical data into Numarical data"
      ]
    },
    {
      "cell_type": "code",
      "metadata": {
        "id": "Ewca6B1xHwKZ"
      },
      "source": [
        "sex_dummies_train = pd.get_dummies(train_set_x['sex'], prefix='sex').iloc[:,1:]\n",
        "workclass_dummies_train = pd.get_dummies(train_set_x['workclass'], prefix='workclass').iloc[:,1:]\n",
        "education_dummies_train = pd.get_dummies(train_set_x['education'], prefix='education').iloc[:,1:]\n",
        "marital_status_dummies_train = pd.get_dummies(train_set_x['marital_status'], prefix='marital_status').iloc[:,1:]\n",
        "relationship_dummies_train = pd.get_dummies(train_set_x['relationship'], prefix='relationship').iloc[:,1:]\n",
        "race_dummies_train = pd.get_dummies(train_set_x['race'], prefix='race').iloc[:,1:]\n",
        "occupation_dummies_train = pd.get_dummies(train_set_x['occupation'], prefix='occupation').iloc[:,1:]\n",
        "native_country_dummies_train = pd.get_dummies(train_set_x['native_country'], prefix='native_country').iloc[:,1:]"
      ],
      "execution_count": null,
      "outputs": []
    },
    {
      "cell_type": "code",
      "metadata": {
        "scrolled": false,
        "id": "zIbB-8KWHwKZ",
        "outputId": "35e90c11-8e1d-49d0-b6b7-6b6a1d986865"
      },
      "source": [
        "print(sex_dummies_train.shape)\n",
        "print(workclass_dummies_train.shape)\n",
        "print(education_dummies_train.shape)\n",
        "print(marital_status_dummies_train.shape)\n",
        "print(relationship_dummies_train.shape)\n",
        "print(race_dummies_train.shape)\n",
        "print(occupation_dummies_train.shape)\n",
        "print(native_country_dummies_train.shape)\n",
        "print(race_dummies_train.shape)\n"
      ],
      "execution_count": null,
      "outputs": [
        {
          "output_type": "stream",
          "text": [
            "(32561, 1)\n",
            "(32561, 8)\n",
            "(32561, 15)\n",
            "(32561, 6)\n",
            "(32561, 5)\n",
            "(32561, 4)\n",
            "(32561, 14)\n",
            "(32561, 41)\n",
            "(32561, 4)\n"
          ],
          "name": "stdout"
        }
      ]
    },
    {
      "cell_type": "code",
      "metadata": {
        "id": "vRKJARBOHwKa"
      },
      "source": [
        "set_train_X = train_set_x[['age','fnlwgt','capital_gain','capital_loss','hours_per_week']]\n",
        "set_train_X = pd.concat([set_train_X, sex_dummies_train], axis=1)\n",
        "set_train_X = pd.concat([set_train_X, workclass_dummies_train], axis=1)\n",
        "set_train_X = pd.concat([set_train_X, education_dummies_train], axis=1)\n",
        "set_train_X = pd.concat([set_train_X, marital_status_dummies_train], axis=1)\n",
        "set_train_X = pd.concat([set_train_X, relationship_dummies_train], axis=1)\n",
        "set_train_X = pd.concat([set_train_X, race_dummies_train], axis=1)\n",
        "set_train_X = pd.concat([set_train_X, occupation_dummies_train], axis=1)"
      ],
      "execution_count": null,
      "outputs": []
    },
    {
      "cell_type": "code",
      "metadata": {
        "id": "wts4Y-VtHwKa",
        "outputId": "479b348d-3d67-4188-9b61-21a091ae0616"
      },
      "source": [
        "set_train_X.shape"
      ],
      "execution_count": null,
      "outputs": [
        {
          "output_type": "execute_result",
          "data": {
            "text/plain": [
              "(32561, 58)"
            ]
          },
          "metadata": {
            "tags": []
          },
          "execution_count": 110
        }
      ]
    },
    {
      "cell_type": "code",
      "metadata": {
        "scrolled": false,
        "id": "n51ckPXxHwKa",
        "outputId": "ea1d1565-1f09-4e2b-c097-6c9ea606ce9d"
      },
      "source": [
        "set_train_X.shape"
      ],
      "execution_count": null,
      "outputs": [
        {
          "output_type": "execute_result",
          "data": {
            "text/plain": [
              "(32561, 58)"
            ]
          },
          "metadata": {
            "tags": []
          },
          "execution_count": 111
        }
      ]
    },
    {
      "cell_type": "code",
      "metadata": {
        "id": "NbGeEJVzHwKb",
        "outputId": "3b40efc7-af37-47a5-abca-76e892996bc3"
      },
      "source": [
        "test_set_x.shape"
      ],
      "execution_count": null,
      "outputs": [
        {
          "output_type": "execute_result",
          "data": {
            "text/plain": [
              "(16281, 14)"
            ]
          },
          "metadata": {
            "tags": []
          },
          "execution_count": 112
        }
      ]
    },
    {
      "cell_type": "code",
      "metadata": {
        "id": "98m-fXHHHwKb"
      },
      "source": [
        "sex_dummies = pd.get_dummies(test_set_x['sex'], prefix='sex').iloc[:,1:]\n",
        "workclass_dummies = pd.get_dummies(test_set_x['workclass'], prefix='workclass').iloc[:,1:]\n",
        "education_dummies = pd.get_dummies(test_set_x['education'], prefix='education').iloc[:,1:]\n",
        "marital_status_dummies = pd.get_dummies(test_set_x['marital_status'], prefix='marital_status').iloc[:,1:]\n",
        "relationship_dummies = pd.get_dummies(test_set_x['relationship'], prefix='relationship').iloc[:,1:]\n",
        "race_dummies = pd.get_dummies(test_set_x['race'], prefix='race').iloc[:,1:]\n",
        "occupation_dummies = pd.get_dummies(test_set_x['occupation'], prefix='occupation').iloc[:,1:]\n",
        "native_country_dummies = pd.get_dummies(test_set_x['native_country'], prefix='native_country').iloc[:,1:]"
      ],
      "execution_count": null,
      "outputs": []
    },
    {
      "cell_type": "code",
      "metadata": {
        "id": "yZ3jimCXHwKb",
        "outputId": "cab63cdd-1111-41ea-fc9c-f64ac817401e"
      },
      "source": [
        "print(sex_dummies.shape)\n",
        "print(workclass_dummies.shape)\n",
        "print(education_dummies.shape)\n",
        "print(marital_status_dummies.shape)\n",
        "print(relationship_dummies.shape)\n",
        "print(race_dummies.shape)\n",
        "print(occupation_dummies.shape)\n",
        "print(native_country_dummies.shape)\n",
        "print(race_dummies.shape)"
      ],
      "execution_count": null,
      "outputs": [
        {
          "output_type": "stream",
          "text": [
            "(16281, 1)\n",
            "(16281, 8)\n",
            "(16281, 15)\n",
            "(16281, 6)\n",
            "(16281, 5)\n",
            "(16281, 4)\n",
            "(16281, 14)\n",
            "(16281, 4)\n"
          ],
          "name": "stdout"
        }
      ]
    },
    {
      "cell_type": "code",
      "metadata": {
        "id": "ra9qyPpqHwKd"
      },
      "source": [
        "set_test_X = test_set_x[['age','fnlwgt','capital_gain','capital_loss','hours_per_week']]\n",
        "set_test_X = pd.concat([set_test_X, workclass_dummies], axis=1)\n",
        "set_test_X = pd.concat([set_test_X, education_dummies], axis=1)\n",
        "set_test_X = pd.concat([set_test_X, marital_status_dummies], axis=1)\n",
        "set_test_X = pd.concat([set_test_X, relationship_dummies], axis=1)\n",
        "set_test_X = pd.concat([set_test_X, race_dummies], axis=1)\n",
        "set_test_X = pd.concat([set_test_X, occupation_dummies], axis=1)\n",
        "set_test_X = pd.concat([set_test_X, sex_dummies], axis=1)"
      ],
      "execution_count": null,
      "outputs": []
    },
    {
      "cell_type": "code",
      "metadata": {
        "id": "oJS2ry2JHwKd",
        "outputId": "ccc3761f-9123-48e9-d77f-63f43b6f3140"
      },
      "source": [
        "set_test_X.shape"
      ],
      "execution_count": null,
      "outputs": [
        {
          "output_type": "execute_result",
          "data": {
            "text/plain": [
              "(16281, 58)"
            ]
          },
          "metadata": {
            "tags": []
          },
          "execution_count": 116
        }
      ]
    },
    {
      "cell_type": "code",
      "metadata": {
        "id": "yqd_ZlSJHwKd"
      },
      "source": [
        "train_set_y = pd.get_dummies(train_set_y,prefix='wage_class').iloc[:,1:]"
      ],
      "execution_count": null,
      "outputs": []
    },
    {
      "cell_type": "code",
      "metadata": {
        "scrolled": true,
        "id": "Le3zqNcMHwKe",
        "outputId": "a8be0761-7f1b-4b43-e9a9-b3eeb4ea049f"
      },
      "source": [
        "train_set_y"
      ],
      "execution_count": null,
      "outputs": [
        {
          "output_type": "execute_result",
          "data": {
            "text/html": [
              "<div>\n",
              "<style scoped>\n",
              "    .dataframe tbody tr th:only-of-type {\n",
              "        vertical-align: middle;\n",
              "    }\n",
              "\n",
              "    .dataframe tbody tr th {\n",
              "        vertical-align: top;\n",
              "    }\n",
              "\n",
              "    .dataframe thead th {\n",
              "        text-align: right;\n",
              "    }\n",
              "</style>\n",
              "<table border=\"1\" class=\"dataframe\">\n",
              "  <thead>\n",
              "    <tr style=\"text-align: right;\">\n",
              "      <th></th>\n",
              "      <th>wage_class_ &gt;50K</th>\n",
              "    </tr>\n",
              "  </thead>\n",
              "  <tbody>\n",
              "    <tr>\n",
              "      <th>0</th>\n",
              "      <td>0</td>\n",
              "    </tr>\n",
              "    <tr>\n",
              "      <th>1</th>\n",
              "      <td>0</td>\n",
              "    </tr>\n",
              "    <tr>\n",
              "      <th>2</th>\n",
              "      <td>0</td>\n",
              "    </tr>\n",
              "    <tr>\n",
              "      <th>3</th>\n",
              "      <td>0</td>\n",
              "    </tr>\n",
              "    <tr>\n",
              "      <th>4</th>\n",
              "      <td>0</td>\n",
              "    </tr>\n",
              "    <tr>\n",
              "      <th>...</th>\n",
              "      <td>...</td>\n",
              "    </tr>\n",
              "    <tr>\n",
              "      <th>32556</th>\n",
              "      <td>0</td>\n",
              "    </tr>\n",
              "    <tr>\n",
              "      <th>32557</th>\n",
              "      <td>1</td>\n",
              "    </tr>\n",
              "    <tr>\n",
              "      <th>32558</th>\n",
              "      <td>0</td>\n",
              "    </tr>\n",
              "    <tr>\n",
              "      <th>32559</th>\n",
              "      <td>0</td>\n",
              "    </tr>\n",
              "    <tr>\n",
              "      <th>32560</th>\n",
              "      <td>1</td>\n",
              "    </tr>\n",
              "  </tbody>\n",
              "</table>\n",
              "<p>32561 rows × 1 columns</p>\n",
              "</div>"
            ],
            "text/plain": [
              "       wage_class_ >50K\n",
              "0                     0\n",
              "1                     0\n",
              "2                     0\n",
              "3                     0\n",
              "4                     0\n",
              "...                 ...\n",
              "32556                 0\n",
              "32557                 1\n",
              "32558                 0\n",
              "32559                 0\n",
              "32560                 1\n",
              "\n",
              "[32561 rows x 1 columns]"
            ]
          },
          "metadata": {
            "tags": []
          },
          "execution_count": 153
        }
      ]
    },
    {
      "cell_type": "code",
      "metadata": {
        "scrolled": true,
        "id": "4lBbDbWwHwKe",
        "outputId": "e4252ec8-b3af-4685-b111-86f98ecc456b"
      },
      "source": [
        "test_set_y = pd.get_dummies(text_set_y,prefix='wage_class').iloc[:,1:]\n",
        "test_set_y"
      ],
      "execution_count": null,
      "outputs": [
        {
          "output_type": "execute_result",
          "data": {
            "text/html": [
              "<div>\n",
              "<style scoped>\n",
              "    .dataframe tbody tr th:only-of-type {\n",
              "        vertical-align: middle;\n",
              "    }\n",
              "\n",
              "    .dataframe tbody tr th {\n",
              "        vertical-align: top;\n",
              "    }\n",
              "\n",
              "    .dataframe thead th {\n",
              "        text-align: right;\n",
              "    }\n",
              "</style>\n",
              "<table border=\"1\" class=\"dataframe\">\n",
              "  <thead>\n",
              "    <tr style=\"text-align: right;\">\n",
              "      <th></th>\n",
              "      <th>wage_class_ &gt;50K.</th>\n",
              "    </tr>\n",
              "  </thead>\n",
              "  <tbody>\n",
              "    <tr>\n",
              "      <th>0</th>\n",
              "      <td>0</td>\n",
              "    </tr>\n",
              "    <tr>\n",
              "      <th>1</th>\n",
              "      <td>0</td>\n",
              "    </tr>\n",
              "    <tr>\n",
              "      <th>2</th>\n",
              "      <td>1</td>\n",
              "    </tr>\n",
              "    <tr>\n",
              "      <th>3</th>\n",
              "      <td>1</td>\n",
              "    </tr>\n",
              "    <tr>\n",
              "      <th>4</th>\n",
              "      <td>0</td>\n",
              "    </tr>\n",
              "    <tr>\n",
              "      <th>...</th>\n",
              "      <td>...</td>\n",
              "    </tr>\n",
              "    <tr>\n",
              "      <th>16276</th>\n",
              "      <td>0</td>\n",
              "    </tr>\n",
              "    <tr>\n",
              "      <th>16277</th>\n",
              "      <td>0</td>\n",
              "    </tr>\n",
              "    <tr>\n",
              "      <th>16278</th>\n",
              "      <td>0</td>\n",
              "    </tr>\n",
              "    <tr>\n",
              "      <th>16279</th>\n",
              "      <td>0</td>\n",
              "    </tr>\n",
              "    <tr>\n",
              "      <th>16280</th>\n",
              "      <td>1</td>\n",
              "    </tr>\n",
              "  </tbody>\n",
              "</table>\n",
              "<p>16281 rows × 1 columns</p>\n",
              "</div>"
            ],
            "text/plain": [
              "       wage_class_ >50K.\n",
              "0                      0\n",
              "1                      0\n",
              "2                      1\n",
              "3                      1\n",
              "4                      0\n",
              "...                  ...\n",
              "16276                  0\n",
              "16277                  0\n",
              "16278                  0\n",
              "16279                  0\n",
              "16280                  1\n",
              "\n",
              "[16281 rows x 1 columns]"
            ]
          },
          "metadata": {
            "tags": []
          },
          "execution_count": 154
        }
      ]
    },
    {
      "cell_type": "markdown",
      "metadata": {
        "id": "_ULyXa6DHwKe"
      },
      "source": [
        "### AdaBoost Classifier Algorithm"
      ]
    },
    {
      "cell_type": "code",
      "metadata": {
        "id": "0pEruZ3nHwKf",
        "outputId": "62269ee9-d8cf-4462-cc8b-447fa6773488"
      },
      "source": [
        "ada = AdaBoostClassifier()\n",
        "ada.fit(set_train_X,train_set_y)"
      ],
      "execution_count": null,
      "outputs": [
        {
          "output_type": "stream",
          "text": [
            "C:\\Users\\appcloud\\anaconda3\\lib\\site-packages\\sklearn\\utils\\validation.py:73: DataConversionWarning: A column-vector y was passed when a 1d array was expected. Please change the shape of y to (n_samples, ), for example using ravel().\n",
            "  return f(**kwargs)\n"
          ],
          "name": "stderr"
        },
        {
          "output_type": "execute_result",
          "data": {
            "text/plain": [
              "AdaBoostClassifier()"
            ]
          },
          "metadata": {
            "tags": []
          },
          "execution_count": 155
        }
      ]
    },
    {
      "cell_type": "code",
      "metadata": {
        "id": "yuhe2gXYHwKf"
      },
      "source": [
        "y_predict = ada.predict(set_train_X)"
      ],
      "execution_count": null,
      "outputs": []
    },
    {
      "cell_type": "code",
      "metadata": {
        "id": "MgUf5dBZHwKf",
        "outputId": "21e6d5e5-fedf-471e-c2e4-0fb3300ff7cd"
      },
      "source": [
        "y_predict"
      ],
      "execution_count": null,
      "outputs": [
        {
          "output_type": "execute_result",
          "data": {
            "text/plain": [
              "array([0, 1, 0, ..., 0, 0, 1], dtype=uint8)"
            ]
          },
          "metadata": {
            "tags": []
          },
          "execution_count": 157
        }
      ]
    },
    {
      "cell_type": "code",
      "metadata": {
        "id": "1PtYZj7QHwKg"
      },
      "source": [
        "from sklearn.metrics import accuracy_score"
      ],
      "execution_count": null,
      "outputs": []
    },
    {
      "cell_type": "code",
      "metadata": {
        "id": "_SxYGXZnHwKg"
      },
      "source": [
        "score = accuracy_score(train_set_y,y_predict)"
      ],
      "execution_count": null,
      "outputs": []
    },
    {
      "cell_type": "markdown",
      "metadata": {
        "id": "IJGqHuPLHwKg"
      },
      "source": [
        "#### Trainging accuracy score"
      ]
    },
    {
      "cell_type": "code",
      "metadata": {
        "id": "0Yvr9b7GHwKh",
        "outputId": "b61ff469-be25-4a7a-fffe-6d4e60fe6b89"
      },
      "source": [
        "score"
      ],
      "execution_count": null,
      "outputs": [
        {
          "output_type": "execute_result",
          "data": {
            "text/plain": [
              "0.860876508706735"
            ]
          },
          "metadata": {
            "tags": []
          },
          "execution_count": 161
        }
      ]
    },
    {
      "cell_type": "code",
      "metadata": {
        "scrolled": true,
        "id": "8SLffEDaHwKh",
        "outputId": "67bd0b75-3a8d-401d-aef8-fcf3667e600b"
      },
      "source": [
        "train_set_y"
      ],
      "execution_count": null,
      "outputs": [
        {
          "output_type": "execute_result",
          "data": {
            "text/html": [
              "<div>\n",
              "<style scoped>\n",
              "    .dataframe tbody tr th:only-of-type {\n",
              "        vertical-align: middle;\n",
              "    }\n",
              "\n",
              "    .dataframe tbody tr th {\n",
              "        vertical-align: top;\n",
              "    }\n",
              "\n",
              "    .dataframe thead th {\n",
              "        text-align: right;\n",
              "    }\n",
              "</style>\n",
              "<table border=\"1\" class=\"dataframe\">\n",
              "  <thead>\n",
              "    <tr style=\"text-align: right;\">\n",
              "      <th></th>\n",
              "      <th>wage_class_ &gt;50K</th>\n",
              "    </tr>\n",
              "  </thead>\n",
              "  <tbody>\n",
              "    <tr>\n",
              "      <th>0</th>\n",
              "      <td>0</td>\n",
              "    </tr>\n",
              "    <tr>\n",
              "      <th>1</th>\n",
              "      <td>0</td>\n",
              "    </tr>\n",
              "    <tr>\n",
              "      <th>2</th>\n",
              "      <td>0</td>\n",
              "    </tr>\n",
              "    <tr>\n",
              "      <th>3</th>\n",
              "      <td>0</td>\n",
              "    </tr>\n",
              "    <tr>\n",
              "      <th>4</th>\n",
              "      <td>0</td>\n",
              "    </tr>\n",
              "    <tr>\n",
              "      <th>...</th>\n",
              "      <td>...</td>\n",
              "    </tr>\n",
              "    <tr>\n",
              "      <th>32556</th>\n",
              "      <td>0</td>\n",
              "    </tr>\n",
              "    <tr>\n",
              "      <th>32557</th>\n",
              "      <td>1</td>\n",
              "    </tr>\n",
              "    <tr>\n",
              "      <th>32558</th>\n",
              "      <td>0</td>\n",
              "    </tr>\n",
              "    <tr>\n",
              "      <th>32559</th>\n",
              "      <td>0</td>\n",
              "    </tr>\n",
              "    <tr>\n",
              "      <th>32560</th>\n",
              "      <td>1</td>\n",
              "    </tr>\n",
              "  </tbody>\n",
              "</table>\n",
              "<p>32561 rows × 1 columns</p>\n",
              "</div>"
            ],
            "text/plain": [
              "       wage_class_ >50K\n",
              "0                     0\n",
              "1                     0\n",
              "2                     0\n",
              "3                     0\n",
              "4                     0\n",
              "...                 ...\n",
              "32556                 0\n",
              "32557                 1\n",
              "32558                 0\n",
              "32559                 0\n",
              "32560                 1\n",
              "\n",
              "[32561 rows x 1 columns]"
            ]
          },
          "metadata": {
            "tags": []
          },
          "execution_count": 159
        }
      ]
    },
    {
      "cell_type": "code",
      "metadata": {
        "id": "5QNYqs5_HwKh"
      },
      "source": [
        "y_test_predict = ada.predict(set_test_X)"
      ],
      "execution_count": null,
      "outputs": []
    },
    {
      "cell_type": "markdown",
      "metadata": {
        "id": "Ao0Z6WTWHwKh"
      },
      "source": [
        "#### Testing accuracy score"
      ]
    },
    {
      "cell_type": "code",
      "metadata": {
        "id": "GulKaJVeHwKi"
      },
      "source": [
        "score2 = accuracy_score(test_set_y,y_test_predict)"
      ],
      "execution_count": null,
      "outputs": []
    },
    {
      "cell_type": "code",
      "metadata": {
        "scrolled": true,
        "id": "7p1FrmZZHwKi",
        "outputId": "80868982-ec2c-4c4e-c766-b7bdb274ac4e"
      },
      "source": [
        "score2"
      ],
      "execution_count": null,
      "outputs": [
        {
          "output_type": "execute_result",
          "data": {
            "text/plain": [
              "0.7791904674160064"
            ]
          },
          "metadata": {
            "tags": []
          },
          "execution_count": 165
        }
      ]
    },
    {
      "cell_type": "markdown",
      "metadata": {
        "id": "8ASV1BMKHwKi"
      },
      "source": [
        "### Gradient Boosting Classifier Algorithm"
      ]
    },
    {
      "cell_type": "code",
      "metadata": {
        "id": "TLm4j4JgHwKi",
        "outputId": "7bc38220-d84b-465c-a925-2a409dc6606d"
      },
      "source": [
        "gb = GradientBoostingClassifier()\n",
        "gb.fit(set_train_X,train_set_y)"
      ],
      "execution_count": null,
      "outputs": [
        {
          "output_type": "stream",
          "text": [
            "C:\\Users\\appcloud\\anaconda3\\lib\\site-packages\\sklearn\\utils\\validation.py:73: DataConversionWarning: A column-vector y was passed when a 1d array was expected. Please change the shape of y to (n_samples, ), for example using ravel().\n",
            "  return f(**kwargs)\n"
          ],
          "name": "stderr"
        },
        {
          "output_type": "execute_result",
          "data": {
            "text/plain": [
              "GradientBoostingClassifier()"
            ]
          },
          "metadata": {
            "tags": []
          },
          "execution_count": 167
        }
      ]
    },
    {
      "cell_type": "code",
      "metadata": {
        "id": "M_6SJp9dHwKj"
      },
      "source": [
        "y_pred_gb_train = gb.predict(set_train_X) "
      ],
      "execution_count": null,
      "outputs": []
    },
    {
      "cell_type": "markdown",
      "metadata": {
        "id": "unfqA8x8HwKj"
      },
      "source": [
        "#### Training accuracy score (Gradient boosting classifier)"
      ]
    },
    {
      "cell_type": "code",
      "metadata": {
        "id": "-mj8IN1bHwKj",
        "outputId": "1d42f425-5ad3-4ea9-9e86-e62172c70fb7"
      },
      "source": [
        "score_gb_train = accuracy_score(train_set_y,y_pred_gb_train)\n",
        "score_gb_train"
      ],
      "execution_count": null,
      "outputs": [
        {
          "output_type": "execute_result",
          "data": {
            "text/plain": [
              "0.8668959798531987"
            ]
          },
          "metadata": {
            "tags": []
          },
          "execution_count": 169
        }
      ]
    },
    {
      "cell_type": "code",
      "metadata": {
        "id": "WvrxXqjqHwKk"
      },
      "source": [
        "y_pred_gb_test = gb.predict(set_test_X)"
      ],
      "execution_count": null,
      "outputs": []
    },
    {
      "cell_type": "markdown",
      "metadata": {
        "id": "i0zawGuPHwKk"
      },
      "source": [
        "#### Testing accuracy score (Gradient boosting classifier)"
      ]
    },
    {
      "cell_type": "code",
      "metadata": {
        "id": "avPbIODvHwKk",
        "outputId": "71436480-f886-4e2b-aa75-3bd5a2ead28a"
      },
      "source": [
        "score_gb_test = accuracy_score(test_set_y,y_pred_gb_test)\n",
        "score_gb_test"
      ],
      "execution_count": null,
      "outputs": [
        {
          "output_type": "execute_result",
          "data": {
            "text/plain": [
              "0.7635280388182544"
            ]
          },
          "metadata": {
            "tags": []
          },
          "execution_count": 171
        }
      ]
    },
    {
      "cell_type": "markdown",
      "metadata": {
        "id": "uQid_qc2HwKk"
      },
      "source": [
        "### XG Boost classifier Algorithm"
      ]
    },
    {
      "cell_type": "code",
      "metadata": {
        "id": "aLQvnI5PHwKl",
        "outputId": "eddca819-f427-4923-a7bd-22b17694bcbb"
      },
      "source": [
        "xgboost = XGBClassifier(learning_rate= 1, max_depth= 5, n_estimators= 50)\n",
        "xgboost.fit(set_train_X,train_set_y)"
      ],
      "execution_count": null,
      "outputs": [
        {
          "output_type": "stream",
          "text": [
            "[15:31:46] WARNING: C:/Users/Administrator/workspace/xgboost-win64_release_1.3.0/src/learner.cc:1061: Starting in XGBoost 1.3.0, the default evaluation metric used with the objective 'binary:logistic' was changed from 'error' to 'logloss'. Explicitly set eval_metric if you'd like to restore the old behavior.\n"
          ],
          "name": "stdout"
        },
        {
          "output_type": "execute_result",
          "data": {
            "text/plain": [
              "XGBClassifier(base_score=0.5, booster='gbtree', colsample_bylevel=1,\n",
              "              colsample_bynode=1, colsample_bytree=1, gamma=0, gpu_id=-1,\n",
              "              importance_type='gain', interaction_constraints='',\n",
              "              learning_rate=1, max_delta_step=0, max_depth=5,\n",
              "              min_child_weight=1, missing=nan, monotone_constraints='()',\n",
              "              n_estimators=50, n_jobs=4, num_parallel_tree=1, random_state=0,\n",
              "              reg_alpha=0, reg_lambda=1, scale_pos_weight=1, subsample=1,\n",
              "              tree_method='exact', validate_parameters=1, verbosity=None)"
            ]
          },
          "metadata": {
            "tags": []
          },
          "execution_count": 190
        }
      ]
    },
    {
      "cell_type": "code",
      "metadata": {
        "id": "WrF2pIeCHwKl"
      },
      "source": [
        "y_pred_xgb_train = xgboost.predict(set_train_X)"
      ],
      "execution_count": null,
      "outputs": []
    },
    {
      "cell_type": "markdown",
      "metadata": {
        "id": "M0gizzMpHwKl"
      },
      "source": [
        "#### Training accuracy score (XG boost classifier)"
      ]
    },
    {
      "cell_type": "code",
      "metadata": {
        "id": "_12CAUBqHwKl",
        "outputId": "0a36ec21-e23a-41c1-d55a-e7a873af7cfa"
      },
      "source": [
        "score_xgb_train = accuracy_score(train_set_y,y_pred_xgb_train)\n",
        "score_xgb_train"
      ],
      "execution_count": null,
      "outputs": [
        {
          "output_type": "execute_result",
          "data": {
            "text/plain": [
              "0.9013236694204724"
            ]
          },
          "metadata": {
            "tags": []
          },
          "execution_count": 192
        }
      ]
    },
    {
      "cell_type": "code",
      "metadata": {
        "id": "jGucPZm7HwKm"
      },
      "source": [
        "y_pred_xgb_test = xgboost.predict(set_test_X)"
      ],
      "execution_count": null,
      "outputs": []
    },
    {
      "cell_type": "code",
      "metadata": {
        "id": "FpjILzrSHwKm"
      },
      "source": [
        "score_xgb_test = accuracy_score(test_set_y,y_pred_xgb_test)"
      ],
      "execution_count": null,
      "outputs": []
    },
    {
      "cell_type": "markdown",
      "metadata": {
        "id": "Y5s0WXNdHwKm"
      },
      "source": [
        "#### Testing accuracy score (XG boost classifier)"
      ]
    },
    {
      "cell_type": "code",
      "metadata": {
        "id": "nKYPNefJHwKn",
        "outputId": "cd089fb8-83c6-4b31-dc24-9b5576357688"
      },
      "source": [
        "score_xgb_test"
      ],
      "execution_count": null,
      "outputs": [
        {
          "output_type": "execute_result",
          "data": {
            "text/plain": [
              "0.746760027025367"
            ]
          },
          "metadata": {
            "tags": []
          },
          "execution_count": 195
        }
      ]
    },
    {
      "cell_type": "markdown",
      "metadata": {
        "id": "3seF9v7YHwKn"
      },
      "source": [
        "#### Parameter tuning"
      ]
    },
    {
      "cell_type": "code",
      "metadata": {
        "id": "kOVjBUGYHwKn",
        "outputId": "7e23d5f1-12f7-4d9a-ae31-c6a0243d2393"
      },
      "source": [
        "xgboost = XGBClassifier(learning_rate= 0.5, max_depth= 3, n_estimators= 150,n_jobs=5)\n",
        "xgboost.fit(set_train_X,train_set_y)"
      ],
      "execution_count": null,
      "outputs": [
        {
          "output_type": "stream",
          "text": [
            "[16:26:02] WARNING: C:/Users/Administrator/workspace/xgboost-win64_release_1.3.0/src/learner.cc:1061: Starting in XGBoost 1.3.0, the default evaluation metric used with the objective 'binary:logistic' was changed from 'error' to 'logloss'. Explicitly set eval_metric if you'd like to restore the old behavior.\n"
          ],
          "name": "stdout"
        },
        {
          "output_type": "execute_result",
          "data": {
            "text/plain": [
              "XGBClassifier(base_score=0.5, booster='gbtree', colsample_bylevel=1,\n",
              "              colsample_bynode=1, colsample_bytree=1, gamma=0, gpu_id=-1,\n",
              "              importance_type='gain', interaction_constraints='',\n",
              "              learning_rate=0.5, max_delta_step=0, max_depth=3,\n",
              "              min_child_weight=1, missing=nan, monotone_constraints='()',\n",
              "              n_estimators=150, n_jobs=5, num_parallel_tree=1, random_state=0,\n",
              "              reg_alpha=0, reg_lambda=1, scale_pos_weight=1, subsample=1,\n",
              "              tree_method='exact', validate_parameters=1, verbosity=None)"
            ]
          },
          "metadata": {
            "tags": []
          },
          "execution_count": 249
        }
      ]
    },
    {
      "cell_type": "code",
      "metadata": {
        "id": "bwqK7q2eHwKn"
      },
      "source": [
        "y_pred_xgb_train = xgboost.predict(set_train_X)"
      ],
      "execution_count": null,
      "outputs": []
    },
    {
      "cell_type": "markdown",
      "metadata": {
        "id": "WhSpoOIlHwKo"
      },
      "source": [
        "#### Training accuracy after parameter tuning (XG boost classifier)"
      ]
    },
    {
      "cell_type": "code",
      "metadata": {
        "id": "GbGqAywgHwKo",
        "outputId": "89ba3c0f-aaac-443c-8e36-4dc19c480e83"
      },
      "source": [
        "score_xgb_train = accuracy_score(train_set_y,y_pred_xgb_train)\n",
        "score_xgb_train"
      ],
      "execution_count": null,
      "outputs": [
        {
          "output_type": "execute_result",
          "data": {
            "text/plain": [
              "0.8882098215656767"
            ]
          },
          "metadata": {
            "tags": []
          },
          "execution_count": 251
        }
      ]
    },
    {
      "cell_type": "code",
      "metadata": {
        "id": "llNjzhjXHwKo"
      },
      "source": [
        "y_pred_xgb_test = xgboost.predict(set_test_X)"
      ],
      "execution_count": null,
      "outputs": []
    },
    {
      "cell_type": "markdown",
      "metadata": {
        "id": "ewXrqE2mHwKp"
      },
      "source": [
        "#### Testing accuracy after parameter tuning (XG boost classifier)"
      ]
    },
    {
      "cell_type": "code",
      "metadata": {
        "id": "QCbhNZh2HwKp"
      },
      "source": [
        "score_xgb_test = accuracy_score(test_set_y,y_pred_xgb_test)"
      ],
      "execution_count": null,
      "outputs": []
    },
    {
      "cell_type": "code",
      "metadata": {
        "id": "HBvNSdPYHwKp",
        "outputId": "28530365-32d9-4da2-e461-8457b721bae9"
      },
      "source": [
        "score_xgb_test"
      ],
      "execution_count": null,
      "outputs": [
        {
          "output_type": "execute_result",
          "data": {
            "text/plain": [
              "0.8114980652294085"
            ]
          },
          "metadata": {
            "tags": []
          },
          "execution_count": 254
        }
      ]
    },
    {
      "cell_type": "code",
      "metadata": {
        "id": "efNonuObHwKp"
      },
      "source": [
        "import pickle\n",
        "\n",
        "filename = 'xgboost_model.pickle'\n",
        "pickle.dump(xgb, open(filename, 'wb'))\n",
        "\n",
        "loaded_model = pickle.load(open(filename, 'rb'))"
      ],
      "execution_count": null,
      "outputs": []
    },
    {
      "cell_type": "code",
      "metadata": {
        "id": "OsJgYvNKHwKq"
      },
      "source": [
        ""
      ],
      "execution_count": null,
      "outputs": []
    }
  ]
}