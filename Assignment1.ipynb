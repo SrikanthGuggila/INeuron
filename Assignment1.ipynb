{
  "nbformat": 4,
  "nbformat_minor": 0,
  "metadata": {
    "colab": {
      "name": "Assignment1.ipynb",
      "provenance": [],
      "authorship_tag": "ABX9TyOxNOcV90tDF7KGY38a/ol/",
      "include_colab_link": true
    },
    "kernelspec": {
      "name": "python3",
      "display_name": "Python 3"
    }
  },
  "cells": [
    {
      "cell_type": "markdown",
      "metadata": {
        "id": "view-in-github",
        "colab_type": "text"
      },
      "source": [
        "<a href=\"https://colab.research.google.com/github/SrikanthGuggila/INeuron/blob/main/Assignment1.ipynb\" target=\"_parent\"><img src=\"https://colab.research.google.com/assets/colab-badge.svg\" alt=\"Open In Colab\"/></a>"
      ]
    },
    {
      "cell_type": "code",
      "metadata": {
        "id": "fcJlG5iuBD2u",
        "colab": {
          "base_uri": "https://localhost:8080/",
          "height": 51
        },
        "outputId": "e9f7ac31-7098-4453-fd06-d9eea3a01d90"
      },
      "source": [
        "print('Hi Ineuron Team')\n",
        "print('Thank you for giving ultimate courses on Data Science')"
      ],
      "execution_count": null,
      "outputs": [
        {
          "output_type": "stream",
          "text": [
            "Hi Ineuron Team\n",
            "Thank you for giving ultimate courses on Data Science\n"
          ],
          "name": "stdout"
        }
      ]
    },
    {
      "cell_type": "code",
      "metadata": {
        "id": "PpdZueWFBahO",
        "colab": {
          "base_uri": "https://localhost:8080/",
          "height": 54
        },
        "outputId": "fc42fc76-2b83-4c42-9a98-6d548f717301"
      },
      "source": [
        "#Question 1\n",
        "\n",
        "for i in range(2001,3200):\n",
        "    if i%7==0 and i%5!=0:\n",
        "        print(i,end=',')"
      ],
      "execution_count": null,
      "outputs": [
        {
          "output_type": "stream",
          "text": [
            "2002,2009,2016,2023,2037,2044,2051,2058,2072,2079,2086,2093,2107,2114,2121,2128,2142,2149,2156,2163,2177,2184,2191,2198,2212,2219,2226,2233,2247,2254,2261,2268,2282,2289,2296,2303,2317,2324,2331,2338,2352,2359,2366,2373,2387,2394,2401,2408,2422,2429,2436,2443,2457,2464,2471,2478,2492,2499,2506,2513,2527,2534,2541,2548,2562,2569,2576,2583,2597,2604,2611,2618,2632,2639,2646,2653,2667,2674,2681,2688,2702,2709,2716,2723,2737,2744,2751,2758,2772,2779,2786,2793,2807,2814,2821,2828,2842,2849,2856,2863,2877,2884,2891,2898,2912,2919,2926,2933,2947,2954,2961,2968,2982,2989,2996,3003,3017,3024,3031,3038,3052,3059,3066,3073,3087,3094,3101,3108,3122,3129,3136,3143,3157,3164,3171,3178,3192,3199,"
          ],
          "name": "stdout"
        }
      ]
    },
    {
      "cell_type": "code",
      "metadata": {
        "id": "akWFRynjBlWN",
        "colab": {
          "base_uri": "https://localhost:8080/",
          "height": 85
        },
        "outputId": "f75d8caa-b38d-4288-a1b5-d2ea92df3020"
      },
      "source": [
        "#Question 2\n",
        "\n",
        "First_Name=input('Enter First Name: ')\n",
        "Last_Name=input('Enter Last Name: ')\n",
        "Full_Name=Last_Name+' '+First_Name\n",
        "print(Full_Name)\n",
        "Full_Name_Reverse=''\n",
        "for i in range(len(Full_Name)):\n",
        "    i=len(Full_Name)-i\n",
        "    Full_Name_Reverse=Full_Name_Reverse+Full_Name[i-1]\n",
        "print(Full_Name_Reverse)"
      ],
      "execution_count": null,
      "outputs": [
        {
          "output_type": "stream",
          "text": [
            "Enter First Name: Python\n",
            "Enter Last Name: Data\n",
            "Data Python\n",
            "nohtyP ataD\n"
          ],
          "name": "stdout"
        }
      ]
    },
    {
      "cell_type": "code",
      "metadata": {
        "id": "oaDnbN8gBpyV",
        "colab": {
          "base_uri": "https://localhost:8080/",
          "height": 34
        },
        "outputId": "051463a1-6e27-42dc-9cdf-29cfc3358219"
      },
      "source": [
        "#Question 3\n",
        "\n",
        "import math\n",
        "\n",
        "def find_volume(r):\n",
        "    return (4*math.pi*(r**3))/3\n",
        "\n",
        "find_volume(5)"
      ],
      "execution_count": null,
      "outputs": [
        {
          "output_type": "execute_result",
          "data": {
            "text/plain": [
              "523.5987755982989"
            ]
          },
          "metadata": {
            "tags": []
          },
          "execution_count": 6
        }
      ]
    },
    {
      "cell_type": "code",
      "metadata": {
        "id": "c6Q6pQEmBxyw"
      },
      "source": [
        ""
      ],
      "execution_count": null,
      "outputs": []
    }
  ]
}