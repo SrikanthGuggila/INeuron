{
  "nbformat": 4,
  "nbformat_minor": 0,
  "metadata": {
    "colab": {
      "name": "Python4.ipynb",
      "provenance": [],
      "collapsed_sections": [],
      "authorship_tag": "ABX9TyMsmMhkeG7XOl8MdKietz1z",
      "include_colab_link": true
    },
    "kernelspec": {
      "name": "python3",
      "display_name": "Python 3"
    }
  },
  "cells": [
    {
      "cell_type": "markdown",
      "metadata": {
        "id": "view-in-github",
        "colab_type": "text"
      },
      "source": [
        "<a href=\"https://colab.research.google.com/github/SrikanthGuggila/INeuron/blob/main/Python4.ipynb\" target=\"_parent\"><img src=\"https://colab.research.google.com/assets/colab-badge.svg\" alt=\"Open In Colab\"/></a>"
      ]
    },
    {
      "cell_type": "markdown",
      "metadata": {
        "id": "J6cW03F2L-c7"
      },
      "source": [
        "1.1 Write a Python Program(with class concepts) to find the area of the triangle using the below\n",
        "formula.\n",
        "area = (s*(s-a)*(s-b)*(s-c)) ** 0.5\n",
        "Function to take the length of the sides of triangle from user should be defined in the parent\n",
        "class and function to calculate the area should be defined in subclass."
      ]
    },
    {
      "cell_type": "code",
      "metadata": {
        "id": "skuZZaMqME7O"
      },
      "source": [
        "class Triangle:\n",
        "    def __init__(self, a, b, c):\n",
        "        self.a = a\n",
        "        self.b = b\n",
        "        self.c = c    \n",
        "    def __str__(self):\n",
        "        return 'The lengths of sides of triangle a, b, c are %d, %d, %d respectively : ' %(self.a, self.b, self.c)\n",
        "\n",
        "class Area(Triangle):\n",
        "    def area(self):\n",
        "        s = (self.a + self.b + self.c)/2\n",
        "        A = (s * (s-self.a) * (s-self.b) * (s-self.c))**0.5\n",
        "        return A   "
      ],
      "execution_count": null,
      "outputs": []
    },
    {
      "cell_type": "code",
      "metadata": {
        "id": "2QZGOW1YMKmF",
        "colab": {
          "base_uri": "https://localhost:8080/",
          "height": 34
        },
        "outputId": "3586f1d9-1d68-4d6a-f0ca-47cc97a77d85"
      },
      "source": [
        "obj = Area(4,5,6)\n",
        "obj.area()"
      ],
      "execution_count": null,
      "outputs": [
        {
          "output_type": "execute_result",
          "data": {
            "text/plain": [
              "9.921567416492215"
            ]
          },
          "metadata": {
            "tags": []
          },
          "execution_count": 2
        }
      ]
    },
    {
      "cell_type": "markdown",
      "metadata": {
        "id": "0mZ5nVh2MayL"
      },
      "source": [
        "1.2 Write a function filter_long_words() that takes a list of words and an integer n and returns\n",
        "the list of words that are longer than n."
      ]
    },
    {
      "cell_type": "code",
      "metadata": {
        "id": "bHHb30TiMc1i",
        "colab": {
          "base_uri": "https://localhost:8080/",
          "height": 34
        },
        "outputId": "dbae2dc7-b445-48ed-c73b-9b9346f73349"
      },
      "source": [
        "def filter_long_words(a ,b):\n",
        "    l = []\n",
        "    for i in a:\n",
        "        if len(i) > b:\n",
        "            l += [i]\n",
        "    return l\n",
        "\n",
        "filter_long_words(['sdfs','dre','werwe','kwejhfw'],3)"
      ],
      "execution_count": null,
      "outputs": [
        {
          "output_type": "execute_result",
          "data": {
            "text/plain": [
              "['sdfs', 'werwe', 'kwejhfw']"
            ]
          },
          "metadata": {
            "tags": []
          },
          "execution_count": 3
        }
      ]
    },
    {
      "cell_type": "markdown",
      "metadata": {
        "id": "MVMgjPPLMsec"
      },
      "source": [
        "2.1 \n",
        "Write a Python program using function concept that maps list of words into a list of integers\n",
        "representing the lengths of the corresponding words.\n",
        "Hint: If a list [ ab,cde,erty] is passed on to the python function output should come as [2,3,4]\n",
        "Here 2,3 and 4 are the lengths of the words in the list."
      ]
    },
    {
      "cell_type": "code",
      "metadata": {
        "id": "RMoqLFE4Mujm",
        "colab": {
          "base_uri": "https://localhost:8080/",
          "height": 34
        },
        "outputId": "29060593-2ad3-44e6-f8fd-efe466ae541d"
      },
      "source": [
        "def len_of_words(a):\n",
        "    l = []\n",
        "    for i in a:\n",
        "        l += [len(i)]\n",
        "    return l\n",
        "\n",
        "len_of_words(['sdfs','dre','werwe','kwejhfw'])"
      ],
      "execution_count": null,
      "outputs": [
        {
          "output_type": "execute_result",
          "data": {
            "text/plain": [
              "[4, 3, 5, 7]"
            ]
          },
          "metadata": {
            "tags": []
          },
          "execution_count": 4
        }
      ]
    },
    {
      "cell_type": "markdown",
      "metadata": {
        "id": "lPIlJ_f1NA2Q"
      },
      "source": [
        "2.2 Write a Python function which takes a character (i.e. a string of length 1) and returns True if\n",
        "it is a vowel, False otherwise."
      ]
    },
    {
      "cell_type": "code",
      "metadata": {
        "id": "tcT3abH8Mj2c"
      },
      "source": [
        "def is_vowel(a):\n",
        "    l = ['a','e','i','o','u']\n",
        "    if type(a) == str and len(a) == 1:\n",
        "        if a in l:\n",
        "            return True\n",
        "        else:\n",
        "            return False\n",
        "    else:\n",
        "        print('Enter the Valid string')"
      ],
      "execution_count": null,
      "outputs": []
    },
    {
      "cell_type": "code",
      "metadata": {
        "id": "TqYlTrChNHzB",
        "colab": {
          "base_uri": "https://localhost:8080/",
          "height": 34
        },
        "outputId": "6c77774f-acc5-4387-f0ce-e05c4404c978"
      },
      "source": [
        "is_vowel('s')"
      ],
      "execution_count": null,
      "outputs": [
        {
          "output_type": "execute_result",
          "data": {
            "text/plain": [
              "False"
            ]
          },
          "metadata": {
            "tags": []
          },
          "execution_count": 6
        }
      ]
    },
    {
      "cell_type": "code",
      "metadata": {
        "id": "0RegGmq0NKzi",
        "colab": {
          "base_uri": "https://localhost:8080/",
          "height": 34
        },
        "outputId": "4d106e47-33af-4f31-e5e1-dc91b43617d1"
      },
      "source": [
        "is_vowel('a')"
      ],
      "execution_count": null,
      "outputs": [
        {
          "output_type": "execute_result",
          "data": {
            "text/plain": [
              "True"
            ]
          },
          "metadata": {
            "tags": []
          },
          "execution_count": 7
        }
      ]
    },
    {
      "cell_type": "code",
      "metadata": {
        "id": "exVHUEx0NPDf",
        "colab": {
          "base_uri": "https://localhost:8080/",
          "height": 34
        },
        "outputId": "08734c98-fdc1-4c39-d44a-2aadeb610b40"
      },
      "source": [
        "is_vowel('dsfdf')"
      ],
      "execution_count": null,
      "outputs": [
        {
          "output_type": "stream",
          "text": [
            "Enter the Valid string\n"
          ],
          "name": "stdout"
        }
      ]
    },
    {
      "cell_type": "code",
      "metadata": {
        "id": "wjwn0ce5NQ7x",
        "colab": {
          "base_uri": "https://localhost:8080/",
          "height": 34
        },
        "outputId": "adaf1779-f1a8-4fa7-8728-13d6bd51d2dc"
      },
      "source": [
        "is_vowel(45634)"
      ],
      "execution_count": null,
      "outputs": [
        {
          "output_type": "stream",
          "text": [
            "Enter the Valid string\n"
          ],
          "name": "stdout"
        }
      ]
    },
    {
      "cell_type": "code",
      "metadata": {
        "id": "zcyUtakjNUIC"
      },
      "source": [
        ""
      ],
      "execution_count": null,
      "outputs": []
    }
  ]
}