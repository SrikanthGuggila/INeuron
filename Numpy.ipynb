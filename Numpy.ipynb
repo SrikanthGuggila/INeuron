{
  "nbformat": 4,
  "nbformat_minor": 0,
  "metadata": {
    "colab": {
      "name": "Numpy.ipynb",
      "provenance": [],
      "collapsed_sections": [],
      "authorship_tag": "ABX9TyOARsb2JV+mnAh6MkhmrDBG",
      "include_colab_link": true
    },
    "kernelspec": {
      "name": "python3",
      "display_name": "Python 3"
    }
  },
  "cells": [
    {
      "cell_type": "markdown",
      "metadata": {
        "id": "view-in-github",
        "colab_type": "text"
      },
      "source": [
        "<a href=\"https://colab.research.google.com/github/SrikanthGuggila/INeuron/blob/main/Numpy.ipynb\" target=\"_parent\"><img src=\"https://colab.research.google.com/assets/colab-badge.svg\" alt=\"Open In Colab\"/></a>"
      ]
    },
    {
      "cell_type": "markdown",
      "metadata": {
        "id": "_xqKFqa2yGtP"
      },
      "source": [
        "1. Write a function so that the columns of the output matrix are powers of the input\n",
        "vector."
      ]
    },
    {
      "cell_type": "code",
      "metadata": {
        "id": "VxYeajMWx-0c"
      },
      "source": [
        "import pandas as pd\n",
        "import numpy as np"
      ],
      "execution_count": null,
      "outputs": []
    },
    {
      "cell_type": "code",
      "metadata": {
        "id": "lUATSceqyrqc"
      },
      "source": [
        "def func(x,N,increasing = False):\n",
        "    if increasing == False:\n",
        "        result = np.column_stack([x**(N-i-1) for i in range(N)])\n",
        "    else:\n",
        "        result = np.column_stack([x**i for i in range(N)])\n",
        "    return result"
      ],
      "execution_count": null,
      "outputs": []
    },
    {
      "cell_type": "code",
      "metadata": {
        "id": "DPEGTejCy36q",
        "colab": {
          "base_uri": "https://localhost:8080/",
          "height": 85
        },
        "outputId": "0c7e0c76-ab56-4308-b452-a2dd5d6d4bf3"
      },
      "source": [
        "x = np.array([1, 2, 3, 5])\n",
        "N =3\n",
        "func(x,N,increasing=True)"
      ],
      "execution_count": null,
      "outputs": [
        {
          "output_type": "execute_result",
          "data": {
            "text/plain": [
              "array([[ 1,  1,  1],\n",
              "       [ 1,  2,  4],\n",
              "       [ 1,  3,  9],\n",
              "       [ 1,  5, 25]])"
            ]
          },
          "metadata": {
            "tags": []
          },
          "execution_count": 3
        }
      ]
    },
    {
      "cell_type": "code",
      "metadata": {
        "id": "objtHKAZzBDk",
        "colab": {
          "base_uri": "https://localhost:8080/",
          "height": 85
        },
        "outputId": "f56fe558-3620-4466-9d0a-17c590d8cbd0"
      },
      "source": [
        "func(x,N)"
      ],
      "execution_count": null,
      "outputs": [
        {
          "output_type": "execute_result",
          "data": {
            "text/plain": [
              "array([[ 1,  1,  1],\n",
              "       [ 4,  2,  1],\n",
              "       [ 9,  3,  1],\n",
              "       [25,  5,  1]])"
            ]
          },
          "metadata": {
            "tags": []
          },
          "execution_count": 4
        }
      ]
    },
    {
      "cell_type": "markdown",
      "metadata": {
        "id": "JUp2wvFgzI15"
      },
      "source": [
        "Write a function to find moving average in an array over a window:\n",
        "Test it over [3, 5, 7, 2, 8, 10, 11, 65, 72, 81, 99, 100, 150] and window of 3.\n"
      ]
    },
    {
      "cell_type": "code",
      "metadata": {
        "id": "yew0zKm0zEon"
      },
      "source": [
        "from statistics import mean"
      ],
      "execution_count": null,
      "outputs": []
    },
    {
      "cell_type": "code",
      "metadata": {
        "id": "EcxKciqgzZa-"
      },
      "source": [
        "def movingavg(seq,k):\n",
        "    if type(seq) == np.ndarray:\n",
        "        seq = seq.tolist()\n",
        "    l = []\n",
        "    m = []\n",
        "    for j in range(len(seq)-k+1):\n",
        "        for i in range(len(seq)):\n",
        "            l = l + [seq[i]]\n",
        "            if i == k-1:\n",
        "                m = m + [mean(l)]\n",
        "            i = 0\n",
        "        l = []\n",
        "        seq.pop(i)\n",
        "    m = [round(i,2) for i in m]\n",
        "    return m"
      ],
      "execution_count": null,
      "outputs": []
    },
    {
      "cell_type": "code",
      "metadata": {
        "id": "2JPaydWNzbb3",
        "colab": {
          "base_uri": "https://localhost:8080/",
          "height": 34
        },
        "outputId": "a9ff64f0-57ae-4127-c650-e20c5565e4b5"
      },
      "source": [
        "input = np.array([10,20,30,40,50,60,70,80,90,100])\n",
        "input"
      ],
      "execution_count": null,
      "outputs": [
        {
          "output_type": "execute_result",
          "data": {
            "text/plain": [
              "array([ 10,  20,  30,  40,  50,  60,  70,  80,  90, 100])"
            ]
          },
          "metadata": {
            "tags": []
          },
          "execution_count": 13
        }
      ]
    },
    {
      "cell_type": "code",
      "metadata": {
        "id": "MSTma438zn2L",
        "colab": {
          "base_uri": "https://localhost:8080/",
          "height": 34
        },
        "outputId": "fae6b991-c32e-4a9d-cfd6-8610bc044b29"
      },
      "source": [
        "movingavg(input,4)"
      ],
      "execution_count": null,
      "outputs": [
        {
          "output_type": "execute_result",
          "data": {
            "text/plain": [
              "[25, 35, 45, 55, 65, 75, 85]"
            ]
          },
          "metadata": {
            "tags": []
          },
          "execution_count": 14
        }
      ]
    },
    {
      "cell_type": "code",
      "metadata": {
        "id": "phNwTdHrzs0F",
        "colab": {
          "base_uri": "https://localhost:8080/",
          "height": 34
        },
        "outputId": "f3ab4bb3-0f15-49eb-c1e2-d5bd678ad91e"
      },
      "source": [
        "input2 = np.array([3, 5, 7, 2, 8, 10, 11, 65, 72, 81, 99, 100, 150])\n",
        "input2"
      ],
      "execution_count": null,
      "outputs": [
        {
          "output_type": "execute_result",
          "data": {
            "text/plain": [
              "array([  3,   5,   7,   2,   8,  10,  11,  65,  72,  81,  99, 100, 150])"
            ]
          },
          "metadata": {
            "tags": []
          },
          "execution_count": 15
        }
      ]
    },
    {
      "cell_type": "code",
      "metadata": {
        "id": "69XOuJ9Az-El",
        "colab": {
          "base_uri": "https://localhost:8080/",
          "height": 34
        },
        "outputId": "f115d21d-7d61-48fd-f7d0-ba71b8e2d206"
      },
      "source": [
        "movingavg(input2,3)"
      ],
      "execution_count": null,
      "outputs": [
        {
          "output_type": "execute_result",
          "data": {
            "text/plain": [
              "[5, 4.67, 5.67, 6.67, 9.67, 28.67, 49.33, 72.67, 84, 93.33, 116.33]"
            ]
          },
          "metadata": {
            "tags": []
          },
          "execution_count": 16
        }
      ]
    },
    {
      "cell_type": "code",
      "metadata": {
        "id": "8z7nB9Lf0Azb"
      },
      "source": [
        ""
      ],
      "execution_count": null,
      "outputs": []
    }
  ]
}