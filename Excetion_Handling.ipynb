{
  "nbformat": 4,
  "nbformat_minor": 0,
  "metadata": {
    "colab": {
      "name": "Excetion Handling.ipynb",
      "provenance": [],
      "authorship_tag": "ABX9TyPU5I88KGod5dcRwP4K5Gg7",
      "include_colab_link": true
    },
    "kernelspec": {
      "name": "python3",
      "display_name": "Python 3"
    }
  },
  "cells": [
    {
      "cell_type": "markdown",
      "metadata": {
        "id": "view-in-github",
        "colab_type": "text"
      },
      "source": [
        "<a href=\"https://colab.research.google.com/github/SrikanthGuggila/INeuron/blob/main/Excetion_Handling.ipynb\" target=\"_parent\"><img src=\"https://colab.research.google.com/assets/colab-badge.svg\" alt=\"Open In Colab\"/></a>"
      ]
    },
    {
      "cell_type": "markdown",
      "metadata": {
        "id": "0jZ_-ufCTLxu"
      },
      "source": [
        "1. Write a function to compute 5/0 and use try/except to catch the exceptions."
      ]
    },
    {
      "cell_type": "code",
      "metadata": {
        "id": "Mj4aSLLzSyNo"
      },
      "source": [
        "def DivideBy():\n",
        "    try:\n",
        "        a = int(input('Enter the numerator:'))\n",
        "        b=5/a\n",
        "        print(b)\n",
        "    except Exception as e:\n",
        "        print('This is not a valid Number')\n",
        "        print(e)\n",
        "        \n",
        "        "
      ],
      "execution_count": null,
      "outputs": []
    },
    {
      "cell_type": "code",
      "metadata": {
        "id": "59jWRgHyTRL4",
        "colab": {
          "base_uri": "https://localhost:8080/",
          "height": 51
        },
        "outputId": "f6d64596-aab3-4d3b-dee6-c2eac19ea94a"
      },
      "source": [
        "DivideBy()"
      ],
      "execution_count": null,
      "outputs": [
        {
          "output_type": "stream",
          "text": [
            "Enter the numerator:5\n",
            "1.0\n"
          ],
          "name": "stdout"
        }
      ]
    },
    {
      "cell_type": "code",
      "metadata": {
        "id": "T_gmUuGaTeKG",
        "colab": {
          "base_uri": "https://localhost:8080/",
          "height": 68
        },
        "outputId": "9061b62f-677a-4a4e-c5b8-8ecc8ce78651"
      },
      "source": [
        "DivideBy()"
      ],
      "execution_count": null,
      "outputs": [
        {
          "output_type": "stream",
          "text": [
            "Enter the numerator:0\n",
            "This is not a valid Number\n",
            "division by zero\n"
          ],
          "name": "stdout"
        }
      ]
    },
    {
      "cell_type": "markdown",
      "metadata": {
        "id": "jW34fNJNT4wb"
      },
      "source": [
        "2. Implement a Python program to generate all sentences where subject is in\n",
        "[\"Americans\", \"Indians\"] and verb is in [\"Play\", \"watch\"] and the object is in\n",
        "[\"Baseball\",\"cricket\"].\n"
      ]
    },
    {
      "cell_type": "code",
      "metadata": {
        "id": "kOmaUm-7Ti2W",
        "colab": {
          "base_uri": "https://localhost:8080/",
          "height": 153
        },
        "outputId": "5fb1f327-44c0-4b17-d57e-3cb0e2afb75d"
      },
      "source": [
        "subjects = ['Americans','Indians']\n",
        "verbs = ['Play','Watch']\n",
        "objects = ['Baseball','Cricket']\n",
        "\n",
        "for i in subjects:\n",
        "    for j in verbs:\n",
        "        for k in objects:\n",
        "            print(i+' '+j+' '+k)"
      ],
      "execution_count": null,
      "outputs": [
        {
          "output_type": "stream",
          "text": [
            "Americans Play Baseball\n",
            "Americans Play Cricket\n",
            "Americans Watch Baseball\n",
            "Americans Watch Cricket\n",
            "Indians Play Baseball\n",
            "Indians Play Cricket\n",
            "Indians Watch Baseball\n",
            "Indians Watch Cricket\n"
          ],
          "name": "stdout"
        }
      ]
    },
    {
      "cell_type": "code",
      "metadata": {
        "id": "6CWGVJapUO5u"
      },
      "source": [
        ""
      ],
      "execution_count": null,
      "outputs": []
    }
  ]
}